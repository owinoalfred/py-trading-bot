{
 "cells": [
  {
   "cell_type": "code",
   "execution_count": 1,
   "id": "e4f75dd8",
   "metadata": {
    "_cell_guid": "b1076dfc-b9ad-4769-8c92-a6c4dae69d19",
    "_uuid": "8f2839f25d086af736a60e9eeb907d3b93b6e0e5",
    "execution": {
     "iopub.execute_input": "2024-09-04T07:18:39.833798Z",
     "iopub.status.busy": "2024-09-04T07:18:39.833226Z",
     "iopub.status.idle": "2024-09-04T07:18:40.297263Z",
     "shell.execute_reply": "2024-09-04T07:18:40.295681Z"
    },
    "papermill": {
     "duration": 0.476783,
     "end_time": "2024-09-04T07:18:40.300326",
     "exception": false,
     "start_time": "2024-09-04T07:18:39.823543",
     "status": "completed"
    },
    "tags": []
   },
   "outputs": [
    {
     "name": "stdout",
     "output_type": "stream",
     "text": [
      "/kaggle/input/housing/data5.csv\n",
      "/kaggle/input/housing/data4.csv\n",
      "/kaggle/input/housing/data2.csv\n",
      "/kaggle/input/housing/data3.csv\n",
      "/kaggle/input/housing/data1.csv\n",
      "/kaggle/input/housing/test_features.csv\n"
     ]
    }
   ],
   "source": [
    "# This Python 3 environment comes with many helpful analytics libraries installed\n",
    "# It is defined by the kaggle/python Docker image: https://github.com/kaggle/docker-python\n",
    "# For example, here's several helpful packages to load\n",
    "\n",
    "import numpy as np # linear algebra\n",
    "import pandas as pd # data processing, CSV file I/O (e.g. pd.read_csv)\n",
    "\n",
    "# Input data files are available in the read-only \"../input/\" directory\n",
    "# For example, running this (by clicking run or pressing Shift+Enter) will list all files under the input directory\n",
    "\n",
    "import os\n",
    "for dirname, _, filenames in os.walk('/kaggle/input'):\n",
    "    for filename in filenames:\n",
    "        print(os.path.join(dirname, filename))\n",
    "\n",
    "# You can write up to 20GB to the current directory (/kaggle/working/) that gets preserved as output when you create a version using \"Save & Run All\" \n",
    "# You can also write temporary files to /kaggle/temp/, but they won't be saved outside of the current session"
   ]
  },
  {
   "cell_type": "code",
   "execution_count": 2,
   "id": "c62b1edd",
   "metadata": {
    "execution": {
     "iopub.execute_input": "2024-09-04T07:18:40.317490Z",
     "iopub.status.busy": "2024-09-04T07:18:40.316945Z",
     "iopub.status.idle": "2024-09-04T07:18:42.668835Z",
     "shell.execute_reply": "2024-09-04T07:18:42.667634Z"
    },
    "papermill": {
     "duration": 2.363001,
     "end_time": "2024-09-04T07:18:42.671569",
     "exception": false,
     "start_time": "2024-09-04T07:18:40.308568",
     "status": "completed"
    },
    "tags": []
   },
   "outputs": [],
   "source": [
    "import pandas as pd\n",
    "from sklearn.metrics import mean_absolute_error\n",
    "from sklearn.pipeline import make_pipeline\n",
    "from sklearn.linear_model import LinearRegression, Ridge\n",
    "from category_encoders import OneHotEncoder\n",
    "from sklearn.impute import SimpleImputer\n",
    "from glob import glob"
   ]
  },
  {
   "cell_type": "code",
   "execution_count": 3,
   "id": "f97c709e",
   "metadata": {
    "execution": {
     "iopub.execute_input": "2024-09-04T07:18:42.687037Z",
     "iopub.status.busy": "2024-09-04T07:18:42.686406Z",
     "iopub.status.idle": "2024-09-04T07:18:42.698853Z",
     "shell.execute_reply": "2024-09-04T07:18:42.697703Z"
    },
    "papermill": {
     "duration": 0.023137,
     "end_time": "2024-09-04T07:18:42.701552",
     "exception": false,
     "start_time": "2024-09-04T07:18:42.678415",
     "status": "completed"
    },
    "tags": []
   },
   "outputs": [],
   "source": [
    "def wrangle(filepath:str)->pd.DataFrame:\n",
    "    # Read CSV file\n",
    "    df = pd.read_csv(filepath)\n",
    "\n",
    "    # Subset data: Apartments in \"Capital Federal\", less than 400,000\n",
    "    mask_ba = df[\"place_with_parent_names\"].str.contains(\"Capital Federal\")\n",
    "    mask_apt = df[\"property_type\"] == \"apartment\"\n",
    "    mask_price = df[\"price_aprox_usd\"] < 400_000\n",
    "    df = df[mask_ba & mask_apt & mask_price]\n",
    "\n",
    "    # Subset data: Remove outliers for \"surface_covered_in_m2\"\n",
    "    low, high = df[\"surface_covered_in_m2\"].quantile([0.1, 0.9])\n",
    "    mask_area = df[\"surface_covered_in_m2\"].between(low, high)\n",
    "    df = df[mask_area]\n",
    "\n",
    "    # Split \"lat-lon\" column\n",
    "    df[[\"lat\", \"lon\"]] = df[\"lat-lon\"].str.split(\",\", expand=True).astype(float)\n",
    "    df.drop(columns=\"lat-lon\", inplace=True)\n",
    "\n",
    "    # Get place name\n",
    "    df[\"neighborhood\"] = df[\"place_with_parent_names\"].str.split(\"|\", expand=True)[3]\n",
    "    df.drop(columns=\"place_with_parent_names\", inplace=True)\n",
    "    \n",
    "    df.drop(columns=[\"floor\", \"expenses\"], inplace=True)\n",
    "    df.drop(columns=[\"operation\", \"property_type\", \"currency\", \"properati_url\"],inplace=True)\n",
    "    df.drop(columns=['price',\n",
    " 'price_aprox_local_currency',\n",
    " 'price_per_m2',\n",
    " 'price_usd_per_m2'], inplace=True)\n",
    "    #dropcolums with multiple linearlity\n",
    "    df.drop(columns=[\"surface_total_in_m2\", \"rooms\"], inplace=True)\n",
    "    \n",
    "    return df"
   ]
  },
  {
   "cell_type": "code",
   "execution_count": 4,
   "id": "f7bb069b",
   "metadata": {
    "execution": {
     "iopub.execute_input": "2024-09-04T07:18:42.718242Z",
     "iopub.status.busy": "2024-09-04T07:18:42.716999Z",
     "iopub.status.idle": "2024-09-04T07:18:43.239655Z",
     "shell.execute_reply": "2024-09-04T07:18:43.238625Z"
    },
    "papermill": {
     "duration": 0.533793,
     "end_time": "2024-09-04T07:18:43.242375",
     "exception": false,
     "start_time": "2024-09-04T07:18:42.708582",
     "status": "completed"
    },
    "tags": []
   },
   "outputs": [],
   "source": [
    "frames=[]\n",
    "files = glob('/kaggle/input/housing/data*.csv')\n",
    "for i in files:\n",
    "    df = wrangle(i)\n",
    "    frames.append(df)\n",
    "    \n"
   ]
  },
  {
   "cell_type": "code",
   "execution_count": 5,
   "id": "24fb2653",
   "metadata": {
    "execution": {
     "iopub.execute_input": "2024-09-04T07:18:43.257551Z",
     "iopub.status.busy": "2024-09-04T07:18:43.257077Z",
     "iopub.status.idle": "2024-09-04T07:18:43.264705Z",
     "shell.execute_reply": "2024-09-04T07:18:43.263601Z"
    },
    "papermill": {
     "duration": 0.01813,
     "end_time": "2024-09-04T07:18:43.267297",
     "exception": false,
     "start_time": "2024-09-04T07:18:43.249167",
     "status": "completed"
    },
    "tags": []
   },
   "outputs": [],
   "source": [
    "df = pd.concat(frames, ignore_index=True)"
   ]
  },
  {
   "cell_type": "code",
   "execution_count": 6,
   "id": "90d15ccb",
   "metadata": {
    "execution": {
     "iopub.execute_input": "2024-09-04T07:18:43.282316Z",
     "iopub.status.busy": "2024-09-04T07:18:43.281876Z",
     "iopub.status.idle": "2024-09-04T07:18:43.287121Z",
     "shell.execute_reply": "2024-09-04T07:18:43.286029Z"
    },
    "papermill": {
     "duration": 0.015493,
     "end_time": "2024-09-04T07:18:43.289546",
     "exception": false,
     "start_time": "2024-09-04T07:18:43.274053",
     "status": "completed"
    },
    "tags": []
   },
   "outputs": [],
   "source": [
    "features = [\"lat\", \"lon\", \"surface_covered_in_m2\", \"neighborhood\"]\n",
    "target = \"price_aprox_usd\""
   ]
  },
  {
   "cell_type": "code",
   "execution_count": 7,
   "id": "2ec7daee",
   "metadata": {
    "execution": {
     "iopub.execute_input": "2024-09-04T07:18:43.305739Z",
     "iopub.status.busy": "2024-09-04T07:18:43.304788Z",
     "iopub.status.idle": "2024-09-04T07:18:43.313790Z",
     "shell.execute_reply": "2024-09-04T07:18:43.312696Z"
    },
    "papermill": {
     "duration": 0.020415,
     "end_time": "2024-09-04T07:18:43.316930",
     "exception": false,
     "start_time": "2024-09-04T07:18:43.296515",
     "status": "completed"
    },
    "tags": []
   },
   "outputs": [],
   "source": [
    "X_train  = df[features]\n",
    "y_train = df[target]"
   ]
  },
  {
   "cell_type": "markdown",
   "id": "d0520cc4",
   "metadata": {
    "papermill": {
     "duration": 0.006904,
     "end_time": "2024-09-04T07:18:43.330721",
     "exception": false,
     "start_time": "2024-09-04T07:18:43.323817",
     "status": "completed"
    },
    "tags": []
   },
   "source": []
  },
  {
   "cell_type": "code",
   "execution_count": 8,
   "id": "36ba07b4",
   "metadata": {
    "execution": {
     "iopub.execute_input": "2024-09-04T07:18:43.347432Z",
     "iopub.status.busy": "2024-09-04T07:18:43.346875Z",
     "iopub.status.idle": "2024-09-04T07:18:43.357653Z",
     "shell.execute_reply": "2024-09-04T07:18:43.355911Z"
    },
    "papermill": {
     "duration": 0.022597,
     "end_time": "2024-09-04T07:18:43.360375",
     "exception": false,
     "start_time": "2024-09-04T07:18:43.337778",
     "status": "completed"
    },
    "tags": []
   },
   "outputs": [
    {
     "name": "stdout",
     "output_type": "stream",
     "text": [
      "Baseline MAE: 44860.10834274133\n"
     ]
    }
   ],
   "source": [
    "y_pred_baseline = [y_train.mean()]*len(y_train)\n",
    "mae = mean_absolute_error(y_train, y_pred_baseline)\n",
    "\n",
    "print(\"Baseline MAE:\", mae)"
   ]
  },
  {
   "cell_type": "code",
   "execution_count": 9,
   "id": "b14aa9b8",
   "metadata": {
    "execution": {
     "iopub.execute_input": "2024-09-04T07:18:43.376009Z",
     "iopub.status.busy": "2024-09-04T07:18:43.375536Z",
     "iopub.status.idle": "2024-09-04T07:18:43.381470Z",
     "shell.execute_reply": "2024-09-04T07:18:43.380230Z"
    },
    "papermill": {
     "duration": 0.016917,
     "end_time": "2024-09-04T07:18:43.384208",
     "exception": false,
     "start_time": "2024-09-04T07:18:43.367291",
     "status": "completed"
    },
    "tags": []
   },
   "outputs": [],
   "source": [
    "model = make_pipeline(\n",
    "    OneHotEncoder(use_cat_names=True),\n",
    "    SimpleImputer(),\n",
    "    Ridge()\n",
    ")"
   ]
  },
  {
   "cell_type": "code",
   "execution_count": 10,
   "id": "0ef795e7",
   "metadata": {
    "execution": {
     "iopub.execute_input": "2024-09-04T07:18:43.399982Z",
     "iopub.status.busy": "2024-09-04T07:18:43.399496Z",
     "iopub.status.idle": "2024-09-04T07:18:43.533174Z",
     "shell.execute_reply": "2024-09-04T07:18:43.531535Z"
    },
    "papermill": {
     "duration": 0.147282,
     "end_time": "2024-09-04T07:18:43.538566",
     "exception": false,
     "start_time": "2024-09-04T07:18:43.391284",
     "status": "completed"
    },
    "tags": []
   },
   "outputs": [
    {
     "data": {
      "text/html": [
       "<style>#sk-container-id-1 {color: black;background-color: white;}#sk-container-id-1 pre{padding: 0;}#sk-container-id-1 div.sk-toggleable {background-color: white;}#sk-container-id-1 label.sk-toggleable__label {cursor: pointer;display: block;width: 100%;margin-bottom: 0;padding: 0.3em;box-sizing: border-box;text-align: center;}#sk-container-id-1 label.sk-toggleable__label-arrow:before {content: \"▸\";float: left;margin-right: 0.25em;color: #696969;}#sk-container-id-1 label.sk-toggleable__label-arrow:hover:before {color: black;}#sk-container-id-1 div.sk-estimator:hover label.sk-toggleable__label-arrow:before {color: black;}#sk-container-id-1 div.sk-toggleable__content {max-height: 0;max-width: 0;overflow: hidden;text-align: left;background-color: #f0f8ff;}#sk-container-id-1 div.sk-toggleable__content pre {margin: 0.2em;color: black;border-radius: 0.25em;background-color: #f0f8ff;}#sk-container-id-1 input.sk-toggleable__control:checked~div.sk-toggleable__content {max-height: 200px;max-width: 100%;overflow: auto;}#sk-container-id-1 input.sk-toggleable__control:checked~label.sk-toggleable__label-arrow:before {content: \"▾\";}#sk-container-id-1 div.sk-estimator input.sk-toggleable__control:checked~label.sk-toggleable__label {background-color: #d4ebff;}#sk-container-id-1 div.sk-label input.sk-toggleable__control:checked~label.sk-toggleable__label {background-color: #d4ebff;}#sk-container-id-1 input.sk-hidden--visually {border: 0;clip: rect(1px 1px 1px 1px);clip: rect(1px, 1px, 1px, 1px);height: 1px;margin: -1px;overflow: hidden;padding: 0;position: absolute;width: 1px;}#sk-container-id-1 div.sk-estimator {font-family: monospace;background-color: #f0f8ff;border: 1px dotted black;border-radius: 0.25em;box-sizing: border-box;margin-bottom: 0.5em;}#sk-container-id-1 div.sk-estimator:hover {background-color: #d4ebff;}#sk-container-id-1 div.sk-parallel-item::after {content: \"\";width: 100%;border-bottom: 1px solid gray;flex-grow: 1;}#sk-container-id-1 div.sk-label:hover label.sk-toggleable__label {background-color: #d4ebff;}#sk-container-id-1 div.sk-serial::before {content: \"\";position: absolute;border-left: 1px solid gray;box-sizing: border-box;top: 0;bottom: 0;left: 50%;z-index: 0;}#sk-container-id-1 div.sk-serial {display: flex;flex-direction: column;align-items: center;background-color: white;padding-right: 0.2em;padding-left: 0.2em;position: relative;}#sk-container-id-1 div.sk-item {position: relative;z-index: 1;}#sk-container-id-1 div.sk-parallel {display: flex;align-items: stretch;justify-content: center;background-color: white;position: relative;}#sk-container-id-1 div.sk-item::before, #sk-container-id-1 div.sk-parallel-item::before {content: \"\";position: absolute;border-left: 1px solid gray;box-sizing: border-box;top: 0;bottom: 0;left: 50%;z-index: -1;}#sk-container-id-1 div.sk-parallel-item {display: flex;flex-direction: column;z-index: 1;position: relative;background-color: white;}#sk-container-id-1 div.sk-parallel-item:first-child::after {align-self: flex-end;width: 50%;}#sk-container-id-1 div.sk-parallel-item:last-child::after {align-self: flex-start;width: 50%;}#sk-container-id-1 div.sk-parallel-item:only-child::after {width: 0;}#sk-container-id-1 div.sk-dashed-wrapped {border: 1px dashed gray;margin: 0 0.4em 0.5em 0.4em;box-sizing: border-box;padding-bottom: 0.4em;background-color: white;}#sk-container-id-1 div.sk-label label {font-family: monospace;font-weight: bold;display: inline-block;line-height: 1.2em;}#sk-container-id-1 div.sk-label-container {text-align: center;}#sk-container-id-1 div.sk-container {/* jupyter's `normalize.less` sets `[hidden] { display: none; }` but bootstrap.min.css set `[hidden] { display: none !important; }` so we also need the `!important` here to be able to override the default hidden behavior on the sphinx rendered scikit-learn.org. See: https://github.com/scikit-learn/scikit-learn/issues/21755 */display: inline-block !important;position: relative;}#sk-container-id-1 div.sk-text-repr-fallback {display: none;}</style><div id=\"sk-container-id-1\" class=\"sk-top-container\"><div class=\"sk-text-repr-fallback\"><pre>Pipeline(steps=[(&#x27;onehotencoder&#x27;,\n",
       "                 OneHotEncoder(cols=[&#x27;neighborhood&#x27;], use_cat_names=True)),\n",
       "                (&#x27;simpleimputer&#x27;, SimpleImputer()), (&#x27;ridge&#x27;, Ridge())])</pre><b>In a Jupyter environment, please rerun this cell to show the HTML representation or trust the notebook. <br />On GitHub, the HTML representation is unable to render, please try loading this page with nbviewer.org.</b></div><div class=\"sk-container\" hidden><div class=\"sk-item sk-dashed-wrapped\"><div class=\"sk-label-container\"><div class=\"sk-label sk-toggleable\"><input class=\"sk-toggleable__control sk-hidden--visually\" id=\"sk-estimator-id-1\" type=\"checkbox\" ><label for=\"sk-estimator-id-1\" class=\"sk-toggleable__label sk-toggleable__label-arrow\">Pipeline</label><div class=\"sk-toggleable__content\"><pre>Pipeline(steps=[(&#x27;onehotencoder&#x27;,\n",
       "                 OneHotEncoder(cols=[&#x27;neighborhood&#x27;], use_cat_names=True)),\n",
       "                (&#x27;simpleimputer&#x27;, SimpleImputer()), (&#x27;ridge&#x27;, Ridge())])</pre></div></div></div><div class=\"sk-serial\"><div class=\"sk-item\"><div class=\"sk-estimator sk-toggleable\"><input class=\"sk-toggleable__control sk-hidden--visually\" id=\"sk-estimator-id-2\" type=\"checkbox\" ><label for=\"sk-estimator-id-2\" class=\"sk-toggleable__label sk-toggleable__label-arrow\">OneHotEncoder</label><div class=\"sk-toggleable__content\"><pre>OneHotEncoder(cols=[&#x27;neighborhood&#x27;], use_cat_names=True)</pre></div></div></div><div class=\"sk-item\"><div class=\"sk-estimator sk-toggleable\"><input class=\"sk-toggleable__control sk-hidden--visually\" id=\"sk-estimator-id-3\" type=\"checkbox\" ><label for=\"sk-estimator-id-3\" class=\"sk-toggleable__label sk-toggleable__label-arrow\">SimpleImputer</label><div class=\"sk-toggleable__content\"><pre>SimpleImputer()</pre></div></div></div><div class=\"sk-item\"><div class=\"sk-estimator sk-toggleable\"><input class=\"sk-toggleable__control sk-hidden--visually\" id=\"sk-estimator-id-4\" type=\"checkbox\" ><label for=\"sk-estimator-id-4\" class=\"sk-toggleable__label sk-toggleable__label-arrow\">Ridge</label><div class=\"sk-toggleable__content\"><pre>Ridge()</pre></div></div></div></div></div></div></div>"
      ],
      "text/plain": [
       "Pipeline(steps=[('onehotencoder',\n",
       "                 OneHotEncoder(cols=['neighborhood'], use_cat_names=True)),\n",
       "                ('simpleimputer', SimpleImputer()), ('ridge', Ridge())])"
      ]
     },
     "execution_count": 10,
     "metadata": {},
     "output_type": "execute_result"
    }
   ],
   "source": [
    "model.fit(X_train, y_train)"
   ]
  },
  {
   "cell_type": "code",
   "execution_count": 11,
   "id": "db628495",
   "metadata": {
    "execution": {
     "iopub.execute_input": "2024-09-04T07:18:43.570534Z",
     "iopub.status.busy": "2024-09-04T07:18:43.569774Z",
     "iopub.status.idle": "2024-09-04T07:18:43.626106Z",
     "shell.execute_reply": "2024-09-04T07:18:43.624792Z"
    },
    "papermill": {
     "duration": 0.077184,
     "end_time": "2024-09-04T07:18:43.630305",
     "exception": false,
     "start_time": "2024-09-04T07:18:43.553121",
     "status": "completed"
    },
    "tags": []
   },
   "outputs": [
    {
     "name": "stdout",
     "output_type": "stream",
     "text": [
      "Training MAE: 24207.107190330353\n"
     ]
    }
   ],
   "source": [
    "y_pred_training = model.predict(X_train)\n",
    "mae = mean_absolute_error(y_train, y_pred_training)\n",
    "\n",
    "print(\"Training MAE:\", mae)"
   ]
  },
  {
   "cell_type": "code",
   "execution_count": 12,
   "id": "bfe90f42",
   "metadata": {
    "execution": {
     "iopub.execute_input": "2024-09-04T07:18:43.662407Z",
     "iopub.status.busy": "2024-09-04T07:18:43.661642Z",
     "iopub.status.idle": "2024-09-04T07:18:43.680860Z",
     "shell.execute_reply": "2024-09-04T07:18:43.679238Z"
    },
    "papermill": {
     "duration": 0.040684,
     "end_time": "2024-09-04T07:18:43.685792",
     "exception": false,
     "start_time": "2024-09-04T07:18:43.645108",
     "status": "completed"
    },
    "tags": []
   },
   "outputs": [],
   "source": [
    "X_test = pd.read_csv(\"/kaggle/input/housing/test_features.csv\")[features]"
   ]
  },
  {
   "cell_type": "code",
   "execution_count": 13,
   "id": "b49d4798",
   "metadata": {
    "execution": {
     "iopub.execute_input": "2024-09-04T07:18:43.718645Z",
     "iopub.status.busy": "2024-09-04T07:18:43.717806Z",
     "iopub.status.idle": "2024-09-04T07:18:43.747345Z",
     "shell.execute_reply": "2024-09-04T07:18:43.745744Z"
    },
    "papermill": {
     "duration": 0.050909,
     "end_time": "2024-09-04T07:18:43.752231",
     "exception": false,
     "start_time": "2024-09-04T07:18:43.701322",
     "status": "completed"
    },
    "tags": []
   },
   "outputs": [],
   "source": [
    "y_test = pd.Series(model.predict(X_test))"
   ]
  },
  {
   "cell_type": "code",
   "execution_count": 14,
   "id": "59143d5e",
   "metadata": {
    "execution": {
     "iopub.execute_input": "2024-09-04T07:18:43.784532Z",
     "iopub.status.busy": "2024-09-04T07:18:43.783669Z",
     "iopub.status.idle": "2024-09-04T07:18:43.806278Z",
     "shell.execute_reply": "2024-09-04T07:18:43.804608Z"
    },
    "papermill": {
     "duration": 0.043997,
     "end_time": "2024-09-04T07:18:43.811265",
     "exception": false,
     "start_time": "2024-09-04T07:18:43.767268",
     "status": "completed"
    },
    "tags": []
   },
   "outputs": [
    {
     "data": {
      "text/plain": [
       "0       231122.403569\n",
       "1       162572.942392\n",
       "2        68477.949626\n",
       "3        63521.438989\n",
       "4       105694.463885\n",
       "            ...      \n",
       "1481     99448.896609\n",
       "1482    174820.183967\n",
       "1483    127364.495816\n",
       "1484    143104.250505\n",
       "1485    118673.708770\n",
       "Length: 1486, dtype: float64"
      ]
     },
     "execution_count": 14,
     "metadata": {},
     "output_type": "execute_result"
    }
   ],
   "source": [
    "y_test"
   ]
  },
  {
   "cell_type": "code",
   "execution_count": 15,
   "id": "8cc3f524",
   "metadata": {
    "execution": {
     "iopub.execute_input": "2024-09-04T07:18:43.844526Z",
     "iopub.status.busy": "2024-09-04T07:18:43.843784Z",
     "iopub.status.idle": "2024-09-04T07:18:43.858109Z",
     "shell.execute_reply": "2024-09-04T07:18:43.856201Z"
    },
    "papermill": {
     "duration": 0.03617,
     "end_time": "2024-09-04T07:18:43.862962",
     "exception": false,
     "start_time": "2024-09-04T07:18:43.826792",
     "status": "completed"
    },
    "tags": []
   },
   "outputs": [],
   "source": [
    "def make_prediction(area, lat, lon, neighborhood):\n",
    "    data = {\n",
    "    \"lat\":lat,\n",
    "    \"lon\":lon,\n",
    "    \"surface_covered_in_m2\":area,  \n",
    "    \"neighborhood\":neighborhood\n",
    "    }\n",
    "    df = pd.DataFrame(data,index=[0])\n",
    "    prediction = model.predict(df)\n",
    "    return f\"Predicted apartment price: ${prediction[0].round(2)}\""
   ]
  },
  {
   "cell_type": "code",
   "execution_count": 16,
   "id": "ef1f7d60",
   "metadata": {
    "execution": {
     "iopub.execute_input": "2024-09-04T07:18:43.880571Z",
     "iopub.status.busy": "2024-09-04T07:18:43.880118Z",
     "iopub.status.idle": "2024-09-04T07:18:43.896519Z",
     "shell.execute_reply": "2024-09-04T07:18:43.895164Z"
    },
    "papermill": {
     "duration": 0.027897,
     "end_time": "2024-09-04T07:18:43.899281",
     "exception": false,
     "start_time": "2024-09-04T07:18:43.871384",
     "status": "completed"
    },
    "tags": []
   },
   "outputs": [
    {
     "data": {
      "text/plain": [
       "'Predicted apartment price: $5906579.59'"
      ]
     },
     "execution_count": 16,
     "metadata": {},
     "output_type": "execute_result"
    }
   ],
   "source": [
    "make_prediction(-34.60,-58.46,49,\"Villa Crespo\")"
   ]
  },
  {
   "cell_type": "code",
   "execution_count": null,
   "id": "3d7e6053",
   "metadata": {
    "papermill": {
     "duration": 0.007219,
     "end_time": "2024-09-04T07:18:43.914041",
     "exception": false,
     "start_time": "2024-09-04T07:18:43.906822",
     "status": "completed"
    },
    "tags": []
   },
   "outputs": [],
   "source": []
  }
 ],
 "metadata": {
  "kaggle": {
   "accelerator": "none",
   "dataSources": [
    {
     "datasetId": 5641298,
     "sourceId": 9314403,
     "sourceType": "datasetVersion"
    }
   ],
   "dockerImageVersionId": 30761,
   "isGpuEnabled": false,
   "isInternetEnabled": true,
   "language": "python",
   "sourceType": "notebook"
  },
  "kernelspec": {
   "display_name": "Python 3",
   "language": "python",
   "name": "python3"
  },
  "language_info": {
   "codemirror_mode": {
    "name": "ipython",
    "version": 3
   },
   "file_extension": ".py",
   "mimetype": "text/x-python",
   "name": "python",
   "nbconvert_exporter": "python",
   "pygments_lexer": "ipython3",
   "version": "3.10.14"
  },
  "papermill": {
   "default_parameters": {},
   "duration": 7.712024,
   "end_time": "2024-09-04T07:18:44.543107",
   "environment_variables": {},
   "exception": null,
   "input_path": "__notebook__.ipynb",
   "output_path": "__notebook__.ipynb",
   "parameters": {},
   "start_time": "2024-09-04T07:18:36.831083",
   "version": "2.6.0"
  }
 },
 "nbformat": 4,
 "nbformat_minor": 5
}
